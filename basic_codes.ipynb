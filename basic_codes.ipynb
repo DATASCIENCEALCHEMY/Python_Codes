{
 "cells": [
  {
   "cell_type": "code",
   "execution_count": 5,
   "id": "849e7551-f6b2-4927-937f-bdf31300a17c",
   "metadata": {},
   "outputs": [
    {
     "name": "stdin",
     "output_type": "stream",
     "text": [
      " 45\n",
      " 55\n"
     ]
    },
    {
     "name": "stdout",
     "output_type": "stream",
     "text": [
      "divv: 45.0/55.0=0.8181818181818182\n"
     ]
    }
   ],
   "source": [
    " num1 = float(input())\n",
    "num2 = float(input())\n",
    "divv = num1/num2\n",
    "print(f\"divv: {num1}/{num2}={divv}\")"
   ]
  },
  {
   "cell_type": "code",
   "execution_count": 18,
   "id": "55ad648b-a65f-48c8-b098-aaa72e632c3a",
   "metadata": {},
   "outputs": [
    {
     "name": "stdout",
     "output_type": "stream",
     "text": [
      "0.9130237473516872\n"
     ]
    }
   ],
   "source": [
    "random_float = random.random()  # Generates a random float between 0.0 and 1.0\n",
    "print(random_float)\n"
   ]
  },
  {
   "cell_type": "code",
   "execution_count": 12,
   "id": "d6fcdaa2-98fe-4cad-b013-baf4d3753800",
   "metadata": {},
   "outputs": [
    {
     "name": "stdout",
     "output_type": "stream",
     "text": [
      "55\n"
     ]
    }
   ],
   "source": [
    "import random\n",
    "random_integer = random.randint(1, 100)  # Generates a random integer between 1 and 100 inclusive\n",
    "print(random_integer)\n"
   ]
  },
  {
   "cell_type": "code",
   "execution_count": 15,
   "id": "fa495eec-358c-40cc-80d6-f2519de1cf42",
   "metadata": {},
   "outputs": [
    {
     "name": "stdout",
     "output_type": "stream",
     "text": [
      "5.5446536809416616\n"
     ]
    }
   ],
   "source": [
    "random_uniform = random.uniform(1.0, 10.0)  # Generates a random float between 1.0 and 10.0\n",
    "print(random_uniform)\n"
   ]
  },
  {
   "cell_type": "code",
   "execution_count": 17,
   "id": "f744dd7e-84a2-4fe7-8edb-c731e90d8ff8",
   "metadata": {},
   "outputs": [
    {
     "name": "stdout",
     "output_type": "stream",
     "text": [
      "cherry\n"
     ]
    }
   ],
   "source": [
    "items = ['apple', 'banana', 'cherry']\n",
    "random_choice = random.choice(items)  # Randomly selects one element from the list\n",
    "print(random_choice)\n"
   ]
  },
  {
   "cell_type": "code",
   "execution_count": 20,
   "id": "214b9d9f-e7b1-46fe-a4ea-3d58cc7f9a05",
   "metadata": {},
   "outputs": [
    {
     "name": "stdin",
     "output_type": "stream",
     "text": [
      " 55\n",
      " 12\n"
     ]
    },
    {
     "name": "stdout",
     "output_type": "stream",
     "text": [
      "Before swapping: a = 55, b = 12\n",
      "After swapping: a = 12, b = 55\n"
     ]
    }
   ],
   "source": [
    "# Define two variables\n",
    "a = input()\n",
    "b = input()\n",
    "\n",
    "# Print the original values\n",
    "print(f\"Before swapping: a = {a}, b = {b}\")\n",
    "\n",
    "# Swap the variables\n",
    "a, b = b, a\n",
    "\n",
    "# Print the swapped values\n",
    "print(f\"After swapping: a = {a}, b = {b}\")\n"
   ]
  },
  {
   "cell_type": "code",
   "execution_count": 22,
   "id": "771b83aa-c6ef-41c5-9ffe-2d3078f4e746",
   "metadata": {},
   "outputs": [
    {
     "name": "stdout",
     "output_type": "stream",
     "text": [
      "55 12\n",
      "12 55\n"
     ]
    }
   ],
   "source": [
    "print(a,b) # using temporary variable\n",
    "temp=a\n",
    "a=b\n",
    "b=temp\n",
    "print(a,b)"
   ]
  },
  {
   "cell_type": "code",
   "execution_count": 27,
   "id": "84406c4b-b73b-48b6-8937-663b84920b9a",
   "metadata": {},
   "outputs": [
    {
     "name": "stdin",
     "output_type": "stream",
     "text": [
      " 55\n"
     ]
    },
    {
     "name": "stdout",
     "output_type": "stream",
     "text": [
      "34.175405\n"
     ]
    }
   ],
   "source": [
    "kilometers = float(input())  # convert kilometers to meters\n",
    "conversion_factor = 0.621371\n",
    "miles = kilometers * conversion_factor\n",
    "print(miles)"
   ]
  },
  {
   "cell_type": "code",
   "execution_count": 29,
   "id": "5ae35f03-31c0-4401-9318-34c7d7144a5e",
   "metadata": {},
   "outputs": [
    {
     "name": "stdin",
     "output_type": "stream",
     "text": [
      " 45\n"
     ]
    },
    {
     "name": "stdout",
     "output_type": "stream",
     "text": [
      "113.0\n"
     ]
    }
   ],
   "source": [
    "# convert celsius to fahrenheit\n",
    "celsius = float ( input ())\n",
    "fahrenheit = (celsius * 9/5 ) + 32\n",
    "print(fahrenheit)"
   ]
  },
  {
   "cell_type": "code",
   "execution_count": 32,
   "id": "329f7695-6416-49d9-9d6d-3ff41af1e71d",
   "metadata": {},
   "outputs": [
    {
     "name": "stdin",
     "output_type": "stream",
     "text": [
      " 2019\n",
      " 05\n"
     ]
    },
    {
     "name": "stdout",
     "output_type": "stream",
     "text": [
      "      May 2019\n",
      "Mo Tu We Th Fr Sa Su\n",
      "       1  2  3  4  5\n",
      " 6  7  8  9 10 11 12\n",
      "13 14 15 16 17 18 19\n",
      "20 21 22 23 24 25 26\n",
      "27 28 29 30 31\n",
      "\n"
     ]
    }
   ],
   "source": [
    "# display calendar\n",
    "import calendar\n",
    "year = int (input())\n",
    "month = int (input())\n",
    "cal = calendar.month(year,month)\n",
    "print(cal)"
   ]
  },
  {
   "cell_type": "code",
   "execution_count": 34,
   "id": "b0df5fee-bcbd-4fa5-9345-4423cfdcfb3c",
   "metadata": {},
   "outputs": [
    {
     "name": "stdin",
     "output_type": "stream",
     "text": [
      "Enter a year:  2018\n"
     ]
    },
    {
     "name": "stdout",
     "output_type": "stream",
     "text": [
      "2018 is not a leap year.\n"
     ]
    }
   ],
   "source": [
    "# Take user input for the year\n",
    "year = int(input(\"Enter a year: \"))\n",
    "\n",
    "# Check if the year is a leap year\n",
    "if (year % 4 == 0 and year % 100 != 0) or (year % 400 == 0):\n",
    "    print(f\"{year} is a leap year.\")\n",
    "else:\n",
    "    print(f\"{year} is not a leap year.\")\n"
   ]
  },
  {
   "cell_type": "code",
   "execution_count": 36,
   "id": "fcbbb04c-e6ad-43f8-b9f0-c48571edbca0",
   "metadata": {},
   "outputs": [
    {
     "name": "stdin",
     "output_type": "stream",
     "text": [
      "Enter a number :  8\n"
     ]
    },
    {
     "name": "stdout",
     "output_type": "stream",
     "text": [
      "8*0 = 0 \n",
      "8*1 = 8 \n",
      "8*2 = 16 \n",
      "8*3 = 24 \n",
      "8*4 = 32 \n",
      "8*5 = 40 \n",
      "8*6 = 48 \n",
      "8*7 = 56 \n",
      "8*8 = 64 \n",
      "8*9 = 72 \n",
      "8*10 = 80 \n"
     ]
    }
   ],
   "source": [
    "num = int(input(\"Enter a number : \"))\n",
    "for i in range(0,11):\n",
    "    print(f\"{num}*{i} = { num* i } \")"
   ]
  },
  {
   "cell_type": "code",
   "execution_count": 38,
   "id": "3fd87201-c3cd-4b23-8488-56f9c7d186d3",
   "metadata": {},
   "outputs": [
    {
     "name": "stdout",
     "output_type": "stream",
     "text": [
      "Merged dictionary using update(): {'a': 1, 'b': 2, 'c': 3, 'd': 4}\n"
     ]
    }
   ],
   "source": [
    "# Define two dictionaries\n",
    "dict1 = {'a': 1, 'b': 2}\n",
    "dict2 = {'c': 3, 'd': 4}\n",
    "\n",
    "# Merge dict2 into dict1 using the update method\n",
    "dict1.update(dict2)\n",
    "\n",
    "# Print the merged dictionary\n",
    "print(\"Merged dictionary using update():\", dict1)\n"
   ]
  },
  {
   "cell_type": "code",
   "execution_count": 39,
   "id": "61872303-5bb5-4124-9974-767fe6cf923c",
   "metadata": {},
   "outputs": [
    {
     "name": "stdout",
     "output_type": "stream",
     "text": [
      "Merged dictionary using unpacking: {'a': 1, 'b': 2, 'c': 3, 'd': 4}\n"
     ]
    }
   ],
   "source": [
    "# Define two dictionaries\n",
    "dict1 = {'a': 1, 'b': 2}\n",
    "dict2 = {'c': 3, 'd': 4}\n",
    "\n",
    "# Merge dictionaries using dictionary unpacking\n",
    "merged_dict = {**dict1, **dict2}\n",
    "\n",
    "# Print the merged dictionary\n",
    "print(\"Merged dictionary using unpacking:\", merged_dict)\n",
    "#The expression {**dict1, **dict2} creates a new dictionary.\n",
    "#The ** operator unpacks the key-value pairs from dict1 and dict2 into the new dictionary.\n",
    "#If there are any overlapping keys, the values from dict2 will overwrite the values from dict1.\n"
   ]
  },
  {
   "cell_type": "code",
   "execution_count": 40,
   "id": "1b2989aa-8b62-4776-b42c-b44a0249ae09",
   "metadata": {},
   "outputs": [
    {
     "name": "stdout",
     "output_type": "stream",
     "text": [
      "Flat dictionary: {'a': 1, 'b': 2, 'c': 3, 'd': 4, 'e': 5}\n"
     ]
    }
   ],
   "source": [
    "# Example key-values list\n",
    "key_values_list = [('a', 1), ('b', 2), ('c', 3), ('d', 4), ('e', 5)]\n",
    "\n",
    "# Initialize an empty dictionary to store the flattened key-value pairs\n",
    "flat_dict = {}\n",
    "\n",
    "# Iterate through each pair in the key-values list and add them to the flat dictionary\n",
    "for pair in key_values_list:\n",
    "    # Check if the pair contains exactly two elements (a key and a value)\n",
    "    if len(pair) == 2:\n",
    "        key, value = pair\n",
    "        flat_dict[key] = value\n",
    "    else:\n",
    "        print(f\"Ignoring invalid pair: {pair}\")\n",
    "\n",
    "# Print the flat dictionary\n",
    "print(\"Flat dictionary:\", flat_dict)\n"
   ]
  },
  {
   "cell_type": "code",
   "execution_count": 49,
   "id": "39fbe080-e75d-4ff3-8214-529a75a83634",
   "metadata": {},
   "outputs": [
    {
     "data": {
      "text/plain": [
       "['a', 'b', 'c', 'd']"
      ]
     },
     "execution_count": 49,
     "metadata": {},
     "output_type": "execute_result"
    }
   ],
   "source": [
    "original_dict = {'b': 2, 'a': 1, 'd': 4, 'c': 3}\n",
    "sorted(original_dict)\n"
   ]
  },
  {
   "cell_type": "code",
   "execution_count": 48,
   "id": "f988b6b9-88c7-4bb4-99fa-06574791e66d",
   "metadata": {},
   "outputs": [
    {
     "name": "stdout",
     "output_type": "stream",
     "text": [
      "1\n",
      "2\n",
      "3\n",
      "4\n"
     ]
    }
   ],
   "source": [
    "original_dict = {'b': 2, 'a': 1, 'd': 4, 'c': 3}\n",
    "sorted_keys = sorted(original_dict)\n",
    "\n",
    "for key in sorted_keys:\n",
    "    print(original_dict[key])\n"
   ]
  },
  {
   "cell_type": "code",
   "execution_count": 44,
   "id": "12a05624-f551-41f8-b37d-915afd595f55",
   "metadata": {},
   "outputs": [
    {
     "name": "stdout",
     "output_type": "stream",
     "text": [
      "Sorted dictionary by keys: {'a': 1, 'b': 2, 'c': 3, 'd': 4}\n"
     ]
    }
   ],
   "source": [
    "# Original dictionary\n",
    "original_dict = {'b': 2, 'a': 1, 'd': 4, 'c': 3}\n",
    "\n",
    "# Sort the dictionary by keys\n",
    "sorted_dict_by_keys = {key: original_dict[key] for key in sorted(original_dict)}\n",
    "\n",
    "# Print the sorted dictionary by keys\n",
    "print(\"Sorted dictionary by keys:\", sorted_dict_by_keys)\n"
   ]
  },
  {
   "cell_type": "code",
   "execution_count": 53,
   "id": "cda67b44-08d8-4ccb-9ffa-27be3e98f888",
   "metadata": {},
   "outputs": [
    {
     "name": "stdin",
     "output_type": "stream",
     "text": [
      "Enter a number:  455\n"
     ]
    },
    {
     "name": "stdout",
     "output_type": "stream",
     "text": [
      "455\n",
      "3\n"
     ]
    }
   ],
   "source": [
    "number = int(input(\"Enter a number: \"))\n",
    "num_str = str(number)\n",
    "print(num_str)\n",
    "print(len(num_str))"
   ]
  },
  {
   "cell_type": "code",
   "execution_count": 62,
   "id": "662ed29c-037b-4568-90ef-6081c9f7a079",
   "metadata": {},
   "outputs": [
    {
     "name": "stdout",
     "output_type": "stream",
     "text": [
      "The given number 153 is armstrong number\n"
     ]
    }
   ],
   "source": [
    "# python 3 program\n",
    "# to check whether the given number is armstrong or not\n",
    "# without using power function\n",
    "\n",
    "n = 153 # or n=int(input()) -> taking input from user\n",
    "s = n # assigning input value to the s variable\n",
    "b = len(str(n))\n",
    "sum1 = 0\n",
    "while n != 0:\n",
    "\tr = n % 10\n",
    "\tsum1 = sum1+(r**b)\n",
    "\tn = n//10\n",
    "if s == sum1:\n",
    "\tprint(\"The given number\", s, \"is armstrong number\")\n",
    "else:\n",
    "\tprint(\"The given number\", s, \"is not armstrong number\")\n",
    "\n",
    "# This code is contributed by Gangarajula Laxmi\n"
   ]
  },
  {
   "cell_type": "code",
   "execution_count": 63,
   "id": "c7cb61b1-a179-4c5e-b697-3f15af3bd0da",
   "metadata": {},
   "outputs": [
    {
     "name": "stdout",
     "output_type": "stream",
     "text": [
      "1\n"
     ]
    }
   ],
   "source": [
    "n = 1\n",
    "n = n%10\n",
    "print(n)"
   ]
  },
  {
   "cell_type": "code",
   "execution_count": null,
   "id": "761b39ff-8b6b-4ec4-a56f-b2f50b2d6f8d",
   "metadata": {},
   "outputs": [],
   "source": [
    "The Fibonacci numbers are the numbers in the following integer sequence. 0, 1, 1, 2, 3, 5, 8, 13, 21, 34, 55, 89, 144, ……..\n",
    "In mathematical terms, the sequence Fn of Fibonacci numbers is defined by the recurrence relation.\n",
    "\n",
    "Fn = Fn-1 + Fn-2\n",
    "\n",
    "with seed values : F0 = 0 and F1 = 1."
   ]
  },
  {
   "cell_type": "code",
   "execution_count": 66,
   "id": "7ff12878-3b0f-43e2-8776-18f44b42e881",
   "metadata": {},
   "outputs": [
    {
     "name": "stdin",
     "output_type": "stream",
     "text": [
      "How many terms?  6\n"
     ]
    },
    {
     "name": "stdout",
     "output_type": "stream",
     "text": [
      "Fibonacci sequence:\n",
      "0\n",
      "1\n",
      "1\n",
      "2\n",
      "3\n",
      "5\n"
     ]
    }
   ],
   "source": [
    "nterms = int(input(\"How many terms? \"))  # Get the number of terms from the user\n",
    "n1, n2 = 0, 1  # Initialize the first two terms of the Fibonacci sequence\n",
    "count = 0  # Initialize a counter\n",
    "\n",
    "# Check if the number of terms is valid\n",
    "if nterms <= 0:\n",
    "    print(\"Please enter a positive integer\")\n",
    "# If there is only one term, return n1\n",
    "elif nterms == 1:\n",
    "    print(\"Fibonacci sequence upto\", nterms, \":\")\n",
    "    print(n1)\n",
    "# Generate the Fibonacci sequence\n",
    "else:\n",
    "    print(\"Fibonacci sequence:\")\n",
    "    while count < nterms:\n",
    "        print(n1)\n",
    "        nth = n1 + n2  # Calculate the next term in the sequence\n",
    "        # Update values for the next iteration\n",
    "        n1 = n2\n",
    "        n2 = nth\n",
    "        count += 1  # Increment the counter\n"
   ]
  },
  {
   "cell_type": "code",
   "execution_count": 69,
   "id": "f2dabd6c-33d2-4692-a1f8-7c75782e9243",
   "metadata": {},
   "outputs": [
    {
     "name": "stdin",
     "output_type": "stream",
     "text": [
      "How many terms?  5\n"
     ]
    },
    {
     "name": "stdout",
     "output_type": "stream",
     "text": [
      "0\n",
      "1\n",
      "1\n",
      "2\n",
      "3\n"
     ]
    }
   ],
   "source": [
    "nterms = int(input(\"How many terms? \"))  # Get the number of terms from the user\n",
    "n1, n2 = 0, 1  # Initialize the first two terms of the Fibonacci sequence\n",
    "count = 0  # Initialize a counter\n",
    "\n",
    "# Check if the number of terms is valid\n",
    "\n",
    "while (nterms > 1) and (count < nterms):\n",
    "        print(n1)\n",
    "        nth = n1 + n2  # Calculate the next term in the sequence\n",
    "        # Update values for the next iteration\n",
    "        n1 = n2\n",
    "        n2 = nth\n",
    "        count += 1  # Increment the counter"
   ]
  },
  {
   "cell_type": "code",
   "execution_count": 70,
   "id": "fc02ef35-af12-4e6f-9021-ac879adce2ad",
   "metadata": {},
   "outputs": [
    {
     "name": "stdin",
     "output_type": "stream",
     "text": [
      "Enter the limit:  55\n"
     ]
    },
    {
     "name": "stdout",
     "output_type": "stream",
     "text": [
      "The sum of natural numbers up to 55 is: 1540\n"
     ]
    }
   ],
   "source": [
    "#Write a Python Program to Find the Sum of Natural Numbers \n",
    "limit = int(input(\"Enter the limit: \"))  # Get the limit from the user\n",
    "sum = 0  # Initialize the sum\n",
    "\n",
    "# Use a for loop to calculate the sum of natural numbers\n",
    "for i in range(1, limit + 1):\n",
    "    sum += i\n",
    "\n",
    "# Print the sum\n",
    "print(\"The sum of natural numbers up to\", limit, \"is:\", sum)\n"
   ]
  },
  {
   "cell_type": "code",
   "execution_count": 71,
   "id": "bf885b59-5376-41aa-a72d-f594b6d8faf1",
   "metadata": {},
   "outputs": [
    {
     "name": "stdin",
     "output_type": "stream",
     "text": [
      "Enter a character:  u\n"
     ]
    },
    {
     "name": "stdout",
     "output_type": "stream",
     "text": [
      "The ASCII value of u is: 117\n"
     ]
    }
   ],
   "source": [
    "# Get the character from the user\n",
    "char = input(\"Enter a character: \")\n",
    "\n",
    "# Convert the character to its ASCII value\n",
    "ascii_value = ord(char)\n",
    "\n",
    "# Print the ASCII value\n",
    "print(\"The ASCII value of\", char, \"is:\", ascii_value)\n"
   ]
  },
  {
   "cell_type": "code",
   "execution_count": 72,
   "id": "79ec9f0e-bbf4-427e-bdb9-03282487fdf0",
   "metadata": {},
   "outputs": [
    {
     "name": "stdin",
     "output_type": "stream",
     "text": [
      "Enter a number:  16\n"
     ]
    },
    {
     "name": "stdout",
     "output_type": "stream",
     "text": [
      "Factorial of 16 is: 20922789888000\n"
     ]
    }
   ],
   "source": [
    "# Function to calculate the factorial of a number\n",
    "def factorial(n):\n",
    "    fact = 1\n",
    "    for i in range(1, n + 1):\n",
    "        fact *= i\n",
    "    return fact\n",
    "\n",
    "# Get the number from the user\n",
    "num = int(input(\"Enter a number: \"))\n",
    "\n",
    "# Check if the number is negative\n",
    "if num < 0:\n",
    "    print(\"Factorial is not defined for negative numbers.\")\n",
    "else:\n",
    "    # Calculate and print the factorial\n",
    "    fact = factorial(num)\n",
    "    print(\"Factorial of\", num, \"is:\", fact)\n"
   ]
  },
  {
   "cell_type": "code",
   "execution_count": 75,
   "id": "208f9583-2d39-4bd4-bffb-3e88cfa234c6",
   "metadata": {},
   "outputs": [
    {
     "name": "stdin",
     "output_type": "stream",
     "text": [
      "Enter your height in meters:  1.7\n",
      "Enter your weight in kg:  80\n"
     ]
    },
    {
     "name": "stdout",
     "output_type": "stream",
     "text": [
      "Welcome to the BMI calculator.\n",
      "Your BMI is: 27.68\n",
      "You are overweight.\n"
     ]
    }
   ],
   "source": [
    "def bodymassindex(height, weight):\n",
    "    return round((weight / height ** 2), 2)\n",
    "\n",
    "h = float(input(\"Enter your height in meters: \"))\n",
    "w = float(input(\"Enter your weight in kg: \"))\n",
    "\n",
    "print(\"Welcome to the BMI calculator.\")\n",
    "\n",
    "bmi = bodymassindex(h, w)\n",
    "print(\"Your BMI is:\", bmi)\n",
    "\n",
    "if bmi <= 18.5:\n",
    "    print(\"You are underweight.\")\n",
    "elif 18.5 < bmi <= 24.9:\n",
    "    print(\"Your weight is normal.\")\n",
    "elif 25 < bmi <= 29.9:\n",
    "    print(\"You are overweight.\")\n",
    "else:\n",
    "    print(\"You are obese.\")\n",
    "\n"
   ]
  },
  {
   "cell_type": "code",
   "execution_count": 77,
   "id": "a8989f59-1928-4c3c-9072-4531022f7586",
   "metadata": {},
   "outputs": [
    {
     "name": "stdin",
     "output_type": "stream",
     "text": [
      "Enter the value of n:  5\n"
     ]
    },
    {
     "ename": "TypeError",
     "evalue": "'int' object is not callable",
     "output_type": "error",
     "traceback": [
      "\u001b[1;31m---------------------------------------------------------------------------\u001b[0m",
      "\u001b[1;31mTypeError\u001b[0m                                 Traceback (most recent call last)",
      "Cell \u001b[1;32mIn[77], line 14\u001b[0m\n\u001b[0;32m     11\u001b[0m     \u001b[38;5;28mprint\u001b[39m(\u001b[38;5;124m\"\u001b[39m\u001b[38;5;124mPlease enter a positive integer.\u001b[39m\u001b[38;5;124m\"\u001b[39m)\n\u001b[0;32m     12\u001b[0m \u001b[38;5;28;01melse\u001b[39;00m:\n\u001b[0;32m     13\u001b[0m     \u001b[38;5;66;03m# Calculate and print the cube sum\u001b[39;00m\n\u001b[1;32m---> 14\u001b[0m     result \u001b[38;5;241m=\u001b[39m cube_sum(n)\n\u001b[0;32m     15\u001b[0m     \u001b[38;5;28mprint\u001b[39m(\u001b[38;5;124mf\u001b[39m\u001b[38;5;124m\"\u001b[39m\u001b[38;5;124mThe cube sum of the first \u001b[39m\u001b[38;5;132;01m{\u001b[39;00mn\u001b[38;5;132;01m}\u001b[39;00m\u001b[38;5;124m natural numbers is: \u001b[39m\u001b[38;5;132;01m{\u001b[39;00mresult\u001b[38;5;132;01m}\u001b[39;00m\u001b[38;5;124m\"\u001b[39m)\n",
      "Cell \u001b[1;32mIn[77], line 3\u001b[0m, in \u001b[0;36mcube_sum\u001b[1;34m(n)\u001b[0m\n\u001b[0;32m      1\u001b[0m \u001b[38;5;28;01mdef\u001b[39;00m \u001b[38;5;21mcube_sum\u001b[39m(n):\n\u001b[0;32m      2\u001b[0m     \u001b[38;5;66;03m# Calculate the cube sum\u001b[39;00m\n\u001b[1;32m----> 3\u001b[0m     sum_of_cubes \u001b[38;5;241m=\u001b[39m \u001b[38;5;28msum\u001b[39m(i \u001b[38;5;241m*\u001b[39m\u001b[38;5;241m*\u001b[39m \u001b[38;5;241m3\u001b[39m \u001b[38;5;28;01mfor\u001b[39;00m i \u001b[38;5;129;01min\u001b[39;00m \u001b[38;5;28mrange\u001b[39m(\u001b[38;5;241m1\u001b[39m, n \u001b[38;5;241m+\u001b[39m \u001b[38;5;241m1\u001b[39m))\n\u001b[0;32m      4\u001b[0m     \u001b[38;5;28;01mreturn\u001b[39;00m sum_of_cubes\n",
      "\u001b[1;31mTypeError\u001b[0m: 'int' object is not callable"
     ]
    }
   ],
   "source": [
    "def cube_sum(n):\n",
    "    # Calculate the cube sum\n",
    "    sum_of_cubes = sum(i ** 3 for i in range(1, n + 1))\n",
    "    return sum_of_cubes\n",
    "\n",
    "# Get the value of n from the user\n",
    "n = int(input(\"Enter the value of n: \"))\n",
    "\n",
    "# Check if n is valid (greater than 0)\n",
    "if n <= 0:\n",
    "    print(\"Please enter a positive integer.\")\n",
    "else:\n",
    "    # Calculate and print the cube sum\n",
    "    result = cube_sum(n)\n",
    "    print(f\"The cube sum of the first {n} natural numbers is: {result}\")\n"
   ]
  },
  {
   "cell_type": "code",
   "execution_count": 82,
   "id": "deb95089-383f-4e0d-9218-0e456ca8e5a6",
   "metadata": {},
   "outputs": [
    {
     "name": "stdout",
     "output_type": "stream",
     "text": [
      "100\n"
     ]
    }
   ],
   "source": [
    "# A formula based Python program to find sum\n",
    "# of series with cubes of first n natural \n",
    "# numbers\n",
    "\n",
    "# Returns the sum of series \n",
    "def sumOfSeries(n):\n",
    "\tx = (n * (n + 1) / 2)\n",
    "\treturn (int)(x * x)\n",
    "\n",
    "\n",
    "\n",
    "# Driver Function\n",
    "n = 4\n",
    "print(sumOfSeries(n))\n",
    "\n",
    "# Code Contributed by Mohit Gupta_OMG <(0_o)>\n"
   ]
  },
  {
   "cell_type": "code",
   "execution_count": 84,
   "id": "daa43258-943d-41be-a7e3-77921d8fb2cc",
   "metadata": {},
   "outputs": [
    {
     "name": "stdout",
     "output_type": "stream",
     "text": [
      "[[100]\n",
      " [200]\n",
      " [300]\n",
      " [400]\n",
      " [500]]\n"
     ]
    }
   ],
   "source": [
    "import pandas as pd\n",
    "import numpy as np\n",
    "\n",
    "# Example DataFrame\n",
    "data = {'price': [100, 200, 300, 400, 500]}\n",
    "open_stock_price_df = pd.DataFrame(data)\n",
    "\n",
    "# Convert the DataFrame column to a NumPy array and reshape it\n",
    "price_array = open_stock_price_df['price'].values.reshape(-1, 1)\n",
    "\n",
    "# Display the reshaped array\n",
    "print(price_array)\n"
   ]
  },
  {
   "cell_type": "code",
   "execution_count": null,
   "id": "2601fea1-548d-4b94-845e-4ddf2fe33be7",
   "metadata": {},
   "outputs": [],
   "source": []
  },
  {
   "cell_type": "code",
   "execution_count": 85,
   "id": "031d2b72-0496-4fc8-813c-13c24b984b00",
   "metadata": {},
   "outputs": [
    {
     "name": "stdout",
     "output_type": "stream",
     "text": [
      "X_train reshaped:\n",
      "[[[0.1]\n",
      "  [0.2]\n",
      "  [0.3]]\n",
      "\n",
      " [[0.2]\n",
      "  [0.3]\n",
      "  [0.4]]\n",
      "\n",
      " [[0.3]\n",
      "  [0.4]\n",
      "  [0.5]]\n",
      "\n",
      " [[0.4]\n",
      "  [0.5]\n",
      "  [0.6]]\n",
      "\n",
      " [[0.5]\n",
      "  [0.6]\n",
      "  [0.7]]\n",
      "\n",
      " [[0.6]\n",
      "  [0.7]\n",
      "  [0.8]]\n",
      "\n",
      " [[0.7]\n",
      "  [0.8]\n",
      "  [0.9]]]\n",
      "Y_train:\n",
      "[0.4 0.5 0.6 0.7 0.8 0.9 1. ]\n"
     ]
    }
   ],
   "source": [
    "import numpy as np\n",
    "\n",
    "# Example scaled stock price data for illustration\n",
    "open_stock_price_scaled = np.array([\n",
    "    [0.1], [0.2], [0.3], [0.4], [0.5], [0.6], [0.7], [0.8], [0.9], [1.0]\n",
    "])\n",
    "\n",
    "# Number of previous time steps to use as features (memory state)\n",
    "memory_state = 3\n",
    "\n",
    "# Lists to store the training data\n",
    "x_train = []\n",
    "y_train = []\n",
    "\n",
    "# Loop to create sequences of data\n",
    "for i in range(memory_state, len(open_stock_price_scaled)):\n",
    "    x_train.append(open_stock_price_scaled[i-memory_state:i, 0])\n",
    "    y_train.append(open_stock_price_scaled[i, 0])\n",
    "\n",
    "# Convert lists to numpy arrays\n",
    "x_train = np.array(x_train)\n",
    "y_train = np.array(y_train)\n",
    "\n",
    "# Reshape x_train to be suitable for LSTM input\n",
    "x_train = np.reshape(x_train, (x_train.shape[0], x_train.shape[1], 1))\n",
    "\n",
    "print(\"X_train reshaped:\")\n",
    "print(x_train)\n",
    "print(\"Y_train:\")\n",
    "print(y_train)\n"
   ]
  },
  {
   "cell_type": "code",
   "execution_count": 86,
   "id": "f034806b-374b-4aa3-a283-455394a58f72",
   "metadata": {},
   "outputs": [
    {
     "ename": "ModuleNotFoundError",
     "evalue": "No module named 'keras'",
     "output_type": "error",
     "traceback": [
      "\u001b[1;31m---------------------------------------------------------------------------\u001b[0m",
      "\u001b[1;31mModuleNotFoundError\u001b[0m                       Traceback (most recent call last)",
      "Cell \u001b[1;32mIn[86], line 2\u001b[0m\n\u001b[0;32m      1\u001b[0m \u001b[38;5;28;01mimport\u001b[39;00m \u001b[38;5;21;01mnumpy\u001b[39;00m \u001b[38;5;28;01mas\u001b[39;00m \u001b[38;5;21;01mnp\u001b[39;00m\n\u001b[1;32m----> 2\u001b[0m \u001b[38;5;28;01mfrom\u001b[39;00m \u001b[38;5;21;01mkeras\u001b[39;00m\u001b[38;5;21;01m.\u001b[39;00m\u001b[38;5;21;01mmodels\u001b[39;00m \u001b[38;5;28;01mimport\u001b[39;00m Sequential\n\u001b[0;32m      3\u001b[0m \u001b[38;5;28;01mfrom\u001b[39;00m \u001b[38;5;21;01mkeras\u001b[39;00m\u001b[38;5;21;01m.\u001b[39;00m\u001b[38;5;21;01mlayers\u001b[39;00m \u001b[38;5;28;01mimport\u001b[39;00m Dense, LSTM, Dropout\n\u001b[0;32m      4\u001b[0m \u001b[38;5;28;01mfrom\u001b[39;00m \u001b[38;5;21;01mkeras\u001b[39;00m \u001b[38;5;28;01mimport\u001b[39;00m backend \u001b[38;5;28;01mas\u001b[39;00m K\n",
      "\u001b[1;31mModuleNotFoundError\u001b[0m: No module named 'keras'"
     ]
    }
   ],
   "source": [
    "import numpy as np\n",
    "from keras.models import Sequential\n",
    "from keras.layers import Dense, LSTM, Dropout\n",
    "from keras import backend as K\n",
    "\n",
    "# Example data preparation (Assuming x_train and y_train are prepared)\n",
    "# Normally you would load your dataset here and preprocess it\n",
    "x_train = np.array([\n",
    "    [0.1, 0.2, 0.3],\n",
    "    [0.2, 0.3, 0.4],\n",
    "    [0.3, 0.4, 0.5],\n",
    "    [0.4, 0.5, 0.6]\n",
    "])\n",
    "\n",
    "y_train = np.array([0.4, 0.5, 0.6, 0.7])\n",
    "\n",
    "# Reshape x_train to be suitable for LSTM input (samples, timesteps, features)\n",
    "x_train = np.reshape(x_train, (x_train.shape[0], x_train.shape[1], 1))\n",
    "\n",
    "# Build the LSTM model\n",
    "model = Sequential()\n",
    "\n",
    "# Adding the first LSTM layer and some Dropout regularization\n",
    "model.add(LSTM(units=50, return_sequences=True, input_shape=(x_train.shape[1], 1)))\n",
    "model.add(Dropout(0.2))\n",
    "\n",
    "# Adding a second LSTM layer and some Dropout regularization\n",
    "model.add(LSTM(units=50, return_sequences=True))\n",
    "model.add(Dropout(0.2))\n",
    "\n",
    "# Adding a third LSTM layer and some Dropout regularization\n",
    "model.add(LSTM(units=50, return_sequences=True))\n",
    "model.add(Dropout(0.2))\n",
    "\n",
    "# Adding a fourth LSTM layer and some Dropout regularization\n",
    "model.add(LSTM(units=50))\n",
    "model.add(Dropout(0.2))\n",
    "\n",
    "# Adding the output layer\n",
    "model.add(Dense(units=1))\n",
    "\n",
    "# Compile the model\n",
    "model.compile(optimizer='adam', loss='mean_squared_error')\n",
    "\n",
    "# Train the model\n",
    "model.fit(x_train, y_train, epochs=100, batch_size=32)\n",
    "\n",
    "# Clear session to free memory after training (optional)\n",
    "K.clear_session()\n"
   ]
  },
  {
   "cell_type": "code",
   "execution_count": null,
   "id": "74ca6b92-9119-42d8-a044-48c9aeeb844b",
   "metadata": {},
   "outputs": [],
   "source": []
  }
 ],
 "metadata": {
  "kernelspec": {
   "display_name": "Python 3 (ipykernel)",
   "language": "python",
   "name": "python3"
  },
  "language_info": {
   "codemirror_mode": {
    "name": "ipython",
    "version": 3
   },
   "file_extension": ".py",
   "mimetype": "text/x-python",
   "name": "python",
   "nbconvert_exporter": "python",
   "pygments_lexer": "ipython3",
   "version": "3.11.7"
  }
 },
 "nbformat": 4,
 "nbformat_minor": 5
}
