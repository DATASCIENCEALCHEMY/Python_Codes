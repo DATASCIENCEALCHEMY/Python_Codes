{
 "cells": [
  {
   "cell_type": "code",
   "execution_count": null,
   "id": "90b30193-29bb-434f-9921-e68bfcf42b4b",
   "metadata": {},
   "outputs": [],
   "source": [
    "#An Armstrong number (also called a narcissistic number) is an integer that is equal to the sum of its own digits,\n",
    "each raised to the power of the number of digits."
   ]
  },
  {
   "cell_type": "code",
   "execution_count": 7,
   "id": "b2628dd8-e0b0-44dd-b584-3f03b8289d4e",
   "metadata": {},
   "outputs": [
    {
     "ename": "ValueError",
     "evalue": "invalid literal for int() with base 10: 'Enter a number'",
     "output_type": "error",
     "traceback": [
      "\u001b[1;31m---------------------------------------------------------------------------\u001b[0m",
      "\u001b[1;31mValueError\u001b[0m                                Traceback (most recent call last)",
      "Cell \u001b[1;32mIn[7], line 1\u001b[0m\n\u001b[1;32m----> 1\u001b[0m number \u001b[38;5;241m=\u001b[39m \u001b[38;5;28minput\u001b[39m(\u001b[38;5;28mint\u001b[39m(\u001b[38;5;124m\"\u001b[39m\u001b[38;5;124mEnter a number\u001b[39m\u001b[38;5;124m\"\u001b[39m))\n\u001b[0;32m      2\u001b[0m num\u001b[38;5;241m=\u001b[39mnumber\n\u001b[0;32m      3\u001b[0m digit,\u001b[38;5;28msum\u001b[39m \u001b[38;5;241m=\u001b[39m \u001b[38;5;241m0\u001b[39m,\u001b[38;5;241m0\u001b[39m\n",
      "\u001b[1;31mValueError\u001b[0m: invalid literal for int() with base 10: 'Enter a number'"
     ]
    }
   ],
   "source": [
    "number = 371\n",
    "num = number\n",
    "digit, sum = 0, 0\n",
    "length = len(str(num))\n",
    "for i in range(length):\n",
    "  digit = int(num%10)\n",
    "  num = num/10\n",
    "  sum += pow(digit,length)\n",
    "if sum==number:\n",
    "  print(\"Armstrong\")\n",
    "else:\n",
    "  print(\"Not Armstrong\")"
   ]
  },
  {
   "cell_type": "code",
   "execution_count": null,
   "id": "90c551aa-dcc7-40fc-9a16-b111b3de57b1",
   "metadata": {},
   "outputs": [],
   "source": []
  },
  {
   "cell_type": "code",
   "execution_count": null,
   "id": "d80033cc-55a4-49f9-89bb-8524228062a8",
   "metadata": {},
   "outputs": [],
   "source": []
  }
 ],
 "metadata": {
  "kernelspec": {
   "display_name": "Python 3 (ipykernel)",
   "language": "python",
   "name": "python3"
  },
  "language_info": {
   "codemirror_mode": {
    "name": "ipython",
    "version": 3
   },
   "file_extension": ".py",
   "mimetype": "text/x-python",
   "name": "python",
   "nbconvert_exporter": "python",
   "pygments_lexer": "ipython3",
   "version": "3.11.7"
  }
 },
 "nbformat": 4,
 "nbformat_minor": 5
}
