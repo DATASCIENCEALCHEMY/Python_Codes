{
 "cells": [
  {
   "cell_type": "code",
   "execution_count": 1,
   "id": "0401b5a6-354e-4a80-b2bd-3cf95df60e96",
   "metadata": {},
   "outputs": [
    {
     "name": "stdout",
     "output_type": "stream",
     "text": [
      "Positive\n"
     ]
    }
   ],
   "source": [
    "#Positive or Negative number\n",
    "num = 5\n",
    "if num > 0:\n",
    "    print('Positive')\n",
    "elif num < 0:\n",
    "    print('Negative')\n",
    "else:\n",
    "    print('Zero')\n"
   ]
  },
  {
   "cell_type": "code",
   "execution_count": 2,
   "id": "7063856e-b2f7-4d43-8e61-a76e116cb406",
   "metadata": {},
   "outputs": [
    {
     "name": "stdin",
     "output_type": "stream",
     "text": [
      "Enter a Number: 45\n"
     ]
    },
    {
     "name": "stdout",
     "output_type": "stream",
     "text": [
      "Given number is Odd\n"
     ]
    }
   ],
   "source": [
    "#Even or Odd number: \n",
    "num = int(input(\"Enter a Number:\")) \n",
    "if num % 2 == 0: \n",
    "  print(\"Given number is Even\") \n",
    "else: \n",
    "  print(\"Given number is Odd\")"
   ]
  },
  {
   "cell_type": "code",
   "execution_count": 5,
   "id": "5fd16112-8d0c-4901-b151-6f07907f9ad7",
   "metadata": {},
   "outputs": [
    {
     "name": "stdin",
     "output_type": "stream",
     "text": [
      "Enter a Number: 5\n"
     ]
    },
    {
     "name": "stdout",
     "output_type": "stream",
     "text": [
      "15\n"
     ]
    }
   ],
   "source": [
    "#Sum of First N Natural numbers: \n",
    "num = int(input(\"Enter a Number:\"))\n",
    "sum = 0\n",
    "for i in range(0,num+1):\n",
    "  sum+=i\n",
    "print(sum)"
   ]
  },
  {
   "cell_type": "code",
   "execution_count": null,
   "id": "79c159d0-b8d6-4760-a3fd-f48e3e44474b",
   "metadata": {},
   "outputs": [],
   "source": [
    "#Sum of N natural numbers:\n"
   ]
  },
  {
   "cell_type": "code",
   "execution_count": 4,
   "id": "48a29576-d7c2-4924-b715-a8556d03d760",
   "metadata": {},
   "outputs": [
    {
     "name": "stdin",
     "output_type": "stream",
     "text": [
      "Enter a Number: 5\n",
      "Enter a Number: 8\n"
     ]
    },
    {
     "name": "stdout",
     "output_type": "stream",
     "text": [
      "26\n"
     ]
    }
   ],
   "source": [
    "#Sum of numbers in a given range: \n",
    "num1 = int(input(\"Enter a Number:\"))\n",
    "num2 = int(input(\"Enter a Number:\"))\n",
    "sum = 0\n",
    "for i in range(num1,num2+1):\n",
    "  sum+=i\n",
    "print(sum)\n"
   ]
  },
  {
   "cell_type": "code",
   "execution_count": 8,
   "id": "c8d7a0b9-0b9b-4131-a948-311b274b7a4f",
   "metadata": {},
   "outputs": [
    {
     "name": "stdin",
     "output_type": "stream",
     "text": [
      "Enter a Number: 45\n",
      "Enter a Number: 88\n"
     ]
    },
    {
     "name": "stdout",
     "output_type": "stream",
     "text": [
      "88\n",
      "88\n",
      "88\n"
     ]
    }
   ],
   "source": [
    "# Greatest of two numbers:\n",
    "num1 = int(input(\"Enter a Number:\"))\n",
    "num2 = int(input(\"Enter a Number:\"))\n",
    "if num1>num2:\n",
    "  print(num1)\n",
    "else:\n",
    "  print(num2)\n",
    "# using ternary operator\n",
    "print((num1 if num1>num2 else num2))\n",
    "# using max function \n",
    "print(max(num1,num2))"
   ]
  },
  {
   "cell_type": "code",
   "execution_count": 11,
   "id": "ab7a2145-0300-40ed-bc51-0298df6054a9",
   "metadata": {},
   "outputs": [
    {
     "name": "stdin",
     "output_type": "stream",
     "text": [
      "Enter a Number: 4\n",
      "Enter a Number: 5\n",
      "Enter a Number: 2\n"
     ]
    },
    {
     "name": "stdout",
     "output_type": "stream",
     "text": [
      "5\n"
     ]
    }
   ],
   "source": [
    "#Find the Greatest of the Three Numbers \n",
    "num1 = int(input(\"Enter a Number:\"))\n",
    "num2 = int(input(\"Enter a Number:\"))\n",
    "num3 = int(input(\"Enter a Number:\"))\n",
    "max = 0\n",
    "if num1 >= num2:\n",
    "    if num1 >= num3:\n",
    "        print(num1)\n",
    "elif num2 >= num1:\n",
    "    if num2 >= num3:\n",
    "        print(num2)\n",
    "    else :\n",
    "        print(num3)"
   ]
  },
  {
   "cell_type": "code",
   "execution_count": 10,
   "id": "74a6ed49-992d-4b81-b109-91901b5b5c6b",
   "metadata": {},
   "outputs": [
    {
     "name": "stdout",
     "output_type": "stream",
     "text": [
      "30\n"
     ]
    }
   ],
   "source": [
    "num1, num2, num3 = 10 , 30 , 20\n",
    "max = 0\n",
    "if num1 >= num2 and num1 >= num3:\n",
    "  print(num1)\n",
    "elif num2 >= num1 and num2 >= num3:\n",
    "  print(num2)\n",
    "else:\n",
    "  print(num3)"
   ]
  },
  {
   "cell_type": "code",
   "execution_count": 17,
   "id": "f2a4b593-0958-4f71-817e-691b709820e6",
   "metadata": {},
   "outputs": [
    {
     "name": "stdout",
     "output_type": "stream",
     "text": [
      "Leap Year\n"
     ]
    }
   ],
   "source": [
    "# leap Year\n",
    "year = 6000\n",
    "\n",
    "if (year%400 == 0) or (year%4==0 and year%100!=0):\n",
    "    print(\"Leap Year\")\n",
    "else:\n",
    "    print(\"Not a Leap Year\")\n"
   ]
  },
  {
   "cell_type": "code",
   "execution_count": 25,
   "id": "ba9f2c85-686d-4280-8470-d365f8071d0e",
   "metadata": {},
   "outputs": [
    {
     "name": "stdin",
     "output_type": "stream",
     "text": [
      "Enter a Number: 5\n"
     ]
    },
    {
     "name": "stdout",
     "output_type": "stream",
     "text": [
      "Prime\n"
     ]
    }
   ],
   "source": [
    "# Prime Number\n",
    "num = int(input(\"Enter a Number:\"))\n",
    "for i in range(2,num):\n",
    "  if num%i==0:\n",
    "      print(\"Not Prime\")\n",
    "else:\n",
    "       print(\"Prime\")"
   ]
  },
  {
   "cell_type": "code",
   "execution_count": 22,
   "id": "4e8311c8-fc77-4bc6-ae56-6d55757b59a2",
   "metadata": {},
   "outputs": [
    {
     "name": "stdout",
     "output_type": "stream",
     "text": [
      "Not Prime\n"
     ]
    }
   ],
   "source": [
    "num = 15\n",
    "flag = 0\n",
    "for i in range(2,num):\n",
    "  if num%i==0:\n",
    "    flag = 1\n",
    "    break\n",
    "if flag == 1:\n",
    "  print('Not Prime')\n",
    "else:\n",
    "  print(\"Prime\")"
   ]
  },
  {
   "cell_type": "code",
   "execution_count": null,
   "id": "f14aa7a8-2b9e-4b02-bc9c-e229aecff1dc",
   "metadata": {},
   "outputs": [],
   "source": []
  }
 ],
 "metadata": {
  "kernelspec": {
   "display_name": "Python 3 (ipykernel)",
   "language": "python",
   "name": "python3"
  },
  "language_info": {
   "codemirror_mode": {
    "name": "ipython",
    "version": 3
   },
   "file_extension": ".py",
   "mimetype": "text/x-python",
   "name": "python",
   "nbconvert_exporter": "python",
   "pygments_lexer": "ipython3",
   "version": "3.11.7"
  }
 },
 "nbformat": 4,
 "nbformat_minor": 5
}
