{
 "cells": [
  {
   "cell_type": "code",
   "execution_count": 1,
   "id": "c9c835f1-cf75-4078-a149-60de76b0fc8e",
   "metadata": {},
   "outputs": [
    {
     "name": "stdout",
     "output_type": "stream",
     "text": [
      "9\n"
     ]
    }
   ],
   "source": [
    "num, power = 3, 2\n",
    "output = 1\n",
    "for i in range(power):\n",
    "  output*=num\n",
    "print(output)"
   ]
  },
  {
   "cell_type": "code",
   "execution_count": 2,
   "id": "ec0d8ac6-521c-4610-8912-eb41e99d6b31",
   "metadata": {},
   "outputs": [
    {
     "name": "stdout",
     "output_type": "stream",
     "text": [
      "15407021574586368\n"
     ]
    }
   ],
   "source": [
    "num, power = 12,15\n",
    "output = 1\n",
    "for i in range(power):\n",
    "  output*=num\n",
    "print(output)"
   ]
  },
  {
   "cell_type": "code",
   "execution_count": null,
   "id": "412b412f-bebe-466c-9b02-5771b8618a16",
   "metadata": {},
   "outputs": [],
   "source": []
  }
 ],
 "metadata": {
  "kernelspec": {
   "display_name": "Python 3 (ipykernel)",
   "language": "python",
   "name": "python3"
  },
  "language_info": {
   "codemirror_mode": {
    "name": "ipython",
    "version": 3
   },
   "file_extension": ".py",
   "mimetype": "text/x-python",
   "name": "python",
   "nbconvert_exporter": "python",
   "pygments_lexer": "ipython3",
   "version": "3.11.7"
  }
 },
 "nbformat": 4,
 "nbformat_minor": 5
}
