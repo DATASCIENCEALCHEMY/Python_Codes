{
 "cells": [
  {
   "cell_type": "code",
   "execution_count": 1,
   "id": "1ce42e03-2f3e-4e9a-a7a9-a7e12bef76b1",
   "metadata": {},
   "outputs": [
    {
     "name": "stdin",
     "output_type": "stream",
     "text": [
      " Enter a number  458\n"
     ]
    },
    {
     "name": "stdout",
     "output_type": "stream",
     "text": [
      "17\n"
     ]
    }
   ],
   "source": [
    "num =  input(\" Enter a number \") \n",
    "sum = 0 \n",
    "for i in num :\n",
    "    sum += int(i)\n",
    "    \n",
    "print(sum)\n",
    "    "
   ]
  },
  {
   "cell_type": "code",
   "execution_count": null,
   "id": "cae98199-94b7-4a45-9132-f87cf8b15bce",
   "metadata": {},
   "outputs": [],
   "source": [
    "num = int (input ( \" enter a number \" ) )\n",
    "sum= 0\n",
    "while (num > 0) :\n",
    "    digit = num % 10\n",
    "    sum += digit \n",
    "    num=num // 10\n",
    "    \n",
    "print(sum)"
   ]
  },
  {
   "cell_type": "code",
   "execution_count": null,
   "id": "7d838c86-3761-4fe5-b596-900f31932929",
   "metadata": {},
   "outputs": [],
   "source": []
  }
 ],
 "metadata": {
  "kernelspec": {
   "display_name": "Python 3 (ipykernel)",
   "language": "python",
   "name": "python3"
  },
  "language_info": {
   "codemirror_mode": {
    "name": "ipython",
    "version": 3
   },
   "file_extension": ".py",
   "mimetype": "text/x-python",
   "name": "python",
   "nbconvert_exporter": "python",
   "pygments_lexer": "ipython3",
   "version": "3.11.7"
  }
 },
 "nbformat": 4,
 "nbformat_minor": 5
}
