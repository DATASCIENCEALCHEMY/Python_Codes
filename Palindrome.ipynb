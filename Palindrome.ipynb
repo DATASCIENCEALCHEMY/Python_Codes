{
 "cells": [
  {
   "cell_type": "code",
   "execution_count": 14,
   "id": "3bd395c0-35b5-46ce-b91c-1109d6768657",
   "metadata": {},
   "outputs": [
    {
     "name": "stdin",
     "output_type": "stream",
     "text": [
      "Enter the number 121\n"
     ]
    },
    {
     "name": "stdout",
     "output_type": "stream",
     "text": [
      "Palindrome\n"
     ]
    }
   ],
   "source": [
    "num = int(input(\"Enter the number\"))\n",
    "a = num \n",
    "reverse = 0\n",
    "while a > 0 :\n",
    "    remainder = a % 10\n",
    "    reverse = reverse * 10 + remainder\n",
    "    a = a // 10\n",
    "\n",
    "if num == reverse :\n",
    "    print(\"Palindrome\")\n",
    "else :\n",
    "    print(\"Not Palindrome\")    "
   ]
  },
  {
   "cell_type": "code",
   "execution_count": null,
   "id": "e6955a55-306b-4e29-ba06-02109e04bb5b",
   "metadata": {},
   "outputs": [],
   "source": []
  },
  {
   "cell_type": "code",
   "execution_count": null,
   "id": "3e29c557-b108-44bf-8569-7aec1c5a86e3",
   "metadata": {},
   "outputs": [],
   "source": []
  },
  {
   "cell_type": "code",
   "execution_count": null,
   "id": "ffc99d21-3543-43a9-a175-94cbf3520e4b",
   "metadata": {},
   "outputs": [],
   "source": []
  },
  {
   "cell_type": "code",
   "execution_count": null,
   "id": "50a79aae-4bfe-45e3-9507-789172d8df51",
   "metadata": {},
   "outputs": [],
   "source": []
  },
  {
   "cell_type": "code",
   "execution_count": null,
   "id": "5812aa0b-c86b-4fa0-943f-5c7f667d89ab",
   "metadata": {},
   "outputs": [],
   "source": []
  },
  {
   "cell_type": "code",
   "execution_count": null,
   "id": "a64a5c41-15d0-46b9-9d71-7cf2b16d12a7",
   "metadata": {},
   "outputs": [],
   "source": []
  },
  {
   "cell_type": "code",
   "execution_count": null,
   "id": "4d085ab4-9d59-40d5-9ed0-008bef81837d",
   "metadata": {},
   "outputs": [],
   "source": []
  },
  {
   "cell_type": "code",
   "execution_count": null,
   "id": "0d7fe0b4-b91c-4a00-b166-b2829930e931",
   "metadata": {},
   "outputs": [],
   "source": []
  },
  {
   "cell_type": "code",
   "execution_count": null,
   "id": "c7b7e3ad-ce34-4528-9c3f-dca914cc2e52",
   "metadata": {},
   "outputs": [],
   "source": []
  },
  {
   "cell_type": "code",
   "execution_count": null,
   "id": "854b381c-5de3-461b-b141-6ee842758da9",
   "metadata": {},
   "outputs": [],
   "source": []
  },
  {
   "cell_type": "code",
   "execution_count": null,
   "id": "598f42ac-86a4-41c0-a7b4-7ad624b27e77",
   "metadata": {},
   "outputs": [],
   "source": []
  },
  {
   "cell_type": "code",
   "execution_count": 5,
   "id": "2c6d10a1-441f-46ae-b902-bd73f46a5857",
   "metadata": {},
   "outputs": [
    {
     "name": "stdout",
     "output_type": "stream",
     "text": [
      "Palindrome\n"
     ]
    }
   ],
   "source": [
    "num = 1221\n",
    "a = num\n",
    "reverse = 0\n",
    "while a > 0:\n",
    "    remainder = a % 10\n",
    "    reverse = (reverse * 10) + remainder\n",
    "    a = a // 10\n",
    "if num == reverse:\n",
    "  print('Palindrome')\n",
    "else:\n",
    "  print(\"Not Palindrome\")"
   ]
  },
  {
   "cell_type": "code",
   "execution_count": null,
   "id": "be588a6a-c7df-43bc-aec7-3fedb85c1ce4",
   "metadata": {},
   "outputs": [],
   "source": [
    "int(input(\"Enter the number\"))"
   ]
  }
 ],
 "metadata": {
  "kernelspec": {
   "display_name": "Python 3 (ipykernel)",
   "language": "python",
   "name": "python3"
  },
  "language_info": {
   "codemirror_mode": {
    "name": "ipython",
    "version": 3
   },
   "file_extension": ".py",
   "mimetype": "text/x-python",
   "name": "python",
   "nbconvert_exporter": "python",
   "pygments_lexer": "ipython3",
   "version": "3.11.7"
  }
 },
 "nbformat": 4,
 "nbformat_minor": 5
}
